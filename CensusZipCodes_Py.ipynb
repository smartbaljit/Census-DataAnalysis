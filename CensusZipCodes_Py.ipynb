{
 "cells": [
  {
   "cell_type": "code",
   "execution_count": 1,
   "metadata": {},
   "outputs": [],
   "source": [
    "import matplotlib.pyplot as plt\n",
    "import pandas as pd\n",
    "import numpy as np\n",
    "import requests"
   ]
  },
  {
   "cell_type": "code",
   "execution_count": 2,
   "metadata": {},
   "outputs": [
    {
     "data": {
      "text/html": [
       "<div>\n",
       "<style scoped>\n",
       "    .dataframe tbody tr th:only-of-type {\n",
       "        vertical-align: middle;\n",
       "    }\n",
       "\n",
       "    .dataframe tbody tr th {\n",
       "        vertical-align: top;\n",
       "    }\n",
       "\n",
       "    .dataframe thead th {\n",
       "        text-align: right;\n",
       "    }\n",
       "</style>\n",
       "<table border=\"1\" class=\"dataframe\">\n",
       "  <thead>\n",
       "    <tr style=\"text-align: right;\">\n",
       "      <th></th>\n",
       "      <th>Zipcode</th>\n",
       "      <th>Lat</th>\n",
       "      <th>Lng</th>\n",
       "      <th>City</th>\n",
       "      <th>EstimatedPopulation</th>\n",
       "    </tr>\n",
       "  </thead>\n",
       "  <tbody>\n",
       "    <tr>\n",
       "      <th>0</th>\n",
       "      <td>7093</td>\n",
       "      <td>40.78</td>\n",
       "      <td>-74.00</td>\n",
       "      <td>Monitor</td>\n",
       "      <td>42640.0</td>\n",
       "    </tr>\n",
       "    <tr>\n",
       "      <th>1</th>\n",
       "      <td>7093</td>\n",
       "      <td>40.78</td>\n",
       "      <td>-74.00</td>\n",
       "      <td>Taurus, NJ</td>\n",
       "      <td>42640.0</td>\n",
       "    </tr>\n",
       "    <tr>\n",
       "      <th>2</th>\n",
       "      <td>7675</td>\n",
       "      <td>40.98</td>\n",
       "      <td>-74.03</td>\n",
       "      <td>Westwood, NJ</td>\n",
       "      <td>24083.0</td>\n",
       "    </tr>\n",
       "    <tr>\n",
       "      <th>3</th>\n",
       "      <td>7675</td>\n",
       "      <td>40.98</td>\n",
       "      <td>-74.03</td>\n",
       "      <td>Old Tappan, NJ</td>\n",
       "      <td>24083.0</td>\n",
       "    </tr>\n",
       "    <tr>\n",
       "      <th>4</th>\n",
       "      <td>7675</td>\n",
       "      <td>40.98</td>\n",
       "      <td>-74.03</td>\n",
       "      <td>River Vale, NJ</td>\n",
       "      <td>24083.0</td>\n",
       "    </tr>\n",
       "  </tbody>\n",
       "</table>\n",
       "</div>"
      ],
      "text/plain": [
       "   Zipcode    Lat    Lng            City  EstimatedPopulation\n",
       "0     7093  40.78 -74.00         Monitor              42640.0\n",
       "1     7093  40.78 -74.00      Taurus, NJ              42640.0\n",
       "2     7675  40.98 -74.03    Westwood, NJ              24083.0\n",
       "3     7675  40.98 -74.03  Old Tappan, NJ              24083.0\n",
       "4     7675  40.98 -74.03  River Vale, NJ              24083.0"
      ]
     },
     "execution_count": 2,
     "metadata": {},
     "output_type": "execute_result"
    }
   ],
   "source": [
    "csv_zip_path = \"Resources/NJ_ZipCodes.csv\"\n",
    "\n",
    "# Read the CSV into a Pandas DataFrame\n",
    "zipcode_df = pd.read_csv(csv_zip_path)\n",
    "\n",
    "# Print the first five rows of data to the screen\n",
    "zipcode_df.head()"
   ]
  },
  {
   "cell_type": "code",
   "execution_count": 3,
   "metadata": {},
   "outputs": [
    {
     "data": {
      "text/html": [
       "<div>\n",
       "<style scoped>\n",
       "    .dataframe tbody tr th:only-of-type {\n",
       "        vertical-align: middle;\n",
       "    }\n",
       "\n",
       "    .dataframe tbody tr th {\n",
       "        vertical-align: top;\n",
       "    }\n",
       "\n",
       "    .dataframe thead th {\n",
       "        text-align: right;\n",
       "    }\n",
       "</style>\n",
       "<table border=\"1\" class=\"dataframe\">\n",
       "  <thead>\n",
       "    <tr style=\"text-align: right;\">\n",
       "      <th></th>\n",
       "      <th>E_Code</th>\n",
       "      <th>Ethenicity</th>\n",
       "    </tr>\n",
       "  </thead>\n",
       "  <tbody>\n",
       "    <tr>\n",
       "      <th>0</th>\n",
       "      <td>B02018_002</td>\n",
       "      <td>Asian Indian</td>\n",
       "    </tr>\n",
       "    <tr>\n",
       "      <th>1</th>\n",
       "      <td>B02018_003</td>\n",
       "      <td>Bangladeshi</td>\n",
       "    </tr>\n",
       "    <tr>\n",
       "      <th>2</th>\n",
       "      <td>B02018_004</td>\n",
       "      <td>Bhutanese</td>\n",
       "    </tr>\n",
       "    <tr>\n",
       "      <th>3</th>\n",
       "      <td>B02018_005</td>\n",
       "      <td>Burmese</td>\n",
       "    </tr>\n",
       "    <tr>\n",
       "      <th>4</th>\n",
       "      <td>B02018_006</td>\n",
       "      <td>Cambodian</td>\n",
       "    </tr>\n",
       "  </tbody>\n",
       "</table>\n",
       "</div>"
      ],
      "text/plain": [
       "       E_Code     Ethenicity\n",
       "0  B02018_002  Asian Indian \n",
       "1  B02018_003   Bangladeshi \n",
       "2  B02018_004      Bhutanese\n",
       "3  B02018_005        Burmese\n",
       "4  B02018_006     Cambodian "
      ]
     },
     "execution_count": 3,
     "metadata": {},
     "output_type": "execute_result"
    }
   ],
   "source": [
    "csv_census=\"Resources/Census_Ancestry_Groups.csv\"\n",
    "\n",
    "# Read the CSV into a Pandas DataFrame\n",
    "census_df = pd.read_csv(csv_census)\n",
    "\n",
    "# Print the first five rows of data to the screen\n",
    "census_df.head()"
   ]
  },
  {
   "cell_type": "code",
   "execution_count": 4,
   "metadata": {},
   "outputs": [],
   "source": [
    "#Appending character 'E' to every ethenicity code\n",
    "for index, row in census_df.iterrows():\n",
    "    census_df[\"E_Code\"][index] = \"\".join((census_df[\"E_Code\"][index],'E'))"
   ]
  },
  {
   "cell_type": "code",
   "execution_count": 5,
   "metadata": {},
   "outputs": [
    {
     "data": {
      "text/html": [
       "<div>\n",
       "<style scoped>\n",
       "    .dataframe tbody tr th:only-of-type {\n",
       "        vertical-align: middle;\n",
       "    }\n",
       "\n",
       "    .dataframe tbody tr th {\n",
       "        vertical-align: top;\n",
       "    }\n",
       "\n",
       "    .dataframe thead th {\n",
       "        text-align: right;\n",
       "    }\n",
       "</style>\n",
       "<table border=\"1\" class=\"dataframe\">\n",
       "  <thead>\n",
       "    <tr style=\"text-align: right;\">\n",
       "      <th></th>\n",
       "      <th>E_Code</th>\n",
       "      <th>Ethenicity</th>\n",
       "    </tr>\n",
       "  </thead>\n",
       "  <tbody>\n",
       "    <tr>\n",
       "      <th>0</th>\n",
       "      <td>B02018_002E</td>\n",
       "      <td>Asian Indian</td>\n",
       "    </tr>\n",
       "    <tr>\n",
       "      <th>1</th>\n",
       "      <td>B02018_003E</td>\n",
       "      <td>Bangladeshi</td>\n",
       "    </tr>\n",
       "    <tr>\n",
       "      <th>2</th>\n",
       "      <td>B02018_004E</td>\n",
       "      <td>Bhutanese</td>\n",
       "    </tr>\n",
       "    <tr>\n",
       "      <th>3</th>\n",
       "      <td>B02018_005E</td>\n",
       "      <td>Burmese</td>\n",
       "    </tr>\n",
       "    <tr>\n",
       "      <th>4</th>\n",
       "      <td>B02018_006E</td>\n",
       "      <td>Cambodian</td>\n",
       "    </tr>\n",
       "  </tbody>\n",
       "</table>\n",
       "</div>"
      ],
      "text/plain": [
       "        E_Code     Ethenicity\n",
       "0  B02018_002E  Asian Indian \n",
       "1  B02018_003E   Bangladeshi \n",
       "2  B02018_004E      Bhutanese\n",
       "3  B02018_005E        Burmese\n",
       "4  B02018_006E     Cambodian "
      ]
     },
     "execution_count": 5,
     "metadata": {},
     "output_type": "execute_result"
    }
   ],
   "source": [
    "census_df.head()"
   ]
  },
  {
   "cell_type": "code",
   "execution_count": null,
   "metadata": {},
   "outputs": [],
   "source": []
  }
 ],
 "metadata": {
  "kernelspec": {
   "display_name": "Python 3",
   "language": "python",
   "name": "python3"
  },
  "language_info": {
   "codemirror_mode": {
    "name": "ipython",
    "version": 3
   },
   "file_extension": ".py",
   "mimetype": "text/x-python",
   "name": "python",
   "nbconvert_exporter": "python",
   "pygments_lexer": "ipython3",
   "version": "3.7.1"
  }
 },
 "nbformat": 4,
 "nbformat_minor": 2
}
